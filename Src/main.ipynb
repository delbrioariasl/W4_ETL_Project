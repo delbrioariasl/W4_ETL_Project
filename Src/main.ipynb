{
 "cells": [
  {
   "cell_type": "code",
   "execution_count": 1,
   "id": "dfc6d61a",
   "metadata": {},
   "outputs": [],
   "source": [
    "import requests as req\n",
    "\n",
    "from bs4 import BeautifulSoup as bs\n",
    "\n",
    "import pandas as pd\n",
    "\n",
    "from selenium import webdriver\n",
    "\n",
    "import time\n",
    "\n",
    "from selenium.webdriver.chrome.options import Options\n",
    "\n",
    "from webdriver_manager.chrome import ChromeDriverManager\n",
    "\n",
    "from selenium.webdriver.common.by import By"
   ]
  },
  {
   "cell_type": "code",
   "execution_count": 2,
   "id": "e3377687",
   "metadata": {},
   "outputs": [],
   "source": [
    "#driver configuration\n",
    "opciones=Options()\n",
    "\n",
    "opciones.add_experimental_option('excludeSwitches', ['enable-automation'])\n",
    "opciones.add_experimental_option('useAutomationExtension', False)\n",
    "opciones.headless=False    # si True, no aperece la ventana (headless=no visible)\n",
    "opciones.add_argument('--start-maximized')         # comienza maximizado\n",
    "#opciones.add_argument('user-data-dir=selenium')    # mantiene las cookies\n",
    "#opciones.add_extension('driver_folder/adblock.crx')       # adblocker\n",
    "opciones.add_argument('--incognito')"
   ]
  },
  {
   "cell_type": "code",
   "execution_count": 3,
   "id": "3bba755f",
   "metadata": {},
   "outputs": [
    {
     "name": "stderr",
     "output_type": "stream",
     "text": [
      "C:\\Users\\delbr\\AppData\\Local\\Temp\\ipykernel_14836\\80690329.py:3: DeprecationWarning: executable_path has been deprecated, please pass in a Service object\n",
      "  driver = webdriver.Chrome(PATH)\n"
     ]
    }
   ],
   "source": [
    "PATH = ChromeDriverManager().install()  # instala driver de chrome\n",
    "\n",
    "driver = webdriver.Chrome(PATH) "
   ]
  },
  {
   "cell_type": "markdown",
   "id": "f81b5dd4",
   "metadata": {},
   "source": [
    "# Primera fuente y Primer metodo: Scrap"
   ]
  },
  {
   "cell_type": "code",
   "execution_count": 4,
   "id": "22dd2f4f",
   "metadata": {},
   "outputs": [],
   "source": [
    "url = 'https://www.relevo.com/futbol/mundial-femenino/2022/directos/2023-07-26-2260585-espana-zambia-sd-di.html?tab=alineaciones'"
   ]
  },
  {
   "cell_type": "code",
   "execution_count": 5,
   "id": "1ee47241",
   "metadata": {},
   "outputs": [],
   "source": [
    "driver.get(url)"
   ]
  },
  {
   "cell_type": "code",
   "execution_count": 6,
   "id": "a4e45270",
   "metadata": {},
   "outputs": [],
   "source": [
    "local = driver.find_elements(By.CSS_SELECTOR, 'div.grid.grid--AB-C > div:nth-child(1) > div > div.c-match__list > div:nth-child(2)')"
   ]
  },
  {
   "cell_type": "code",
   "execution_count": 7,
   "id": "58557fa1",
   "metadata": {},
   "outputs": [],
   "source": [
    "visitante = driver.find_elements(By.CSS_SELECTOR, 'div.grid.grid--AB-C > div:nth-child(1) > div > div.c-match__list > div:nth-child(3)')"
   ]
  },
  {
   "cell_type": "code",
   "execution_count": 8,
   "id": "2305aeee",
   "metadata": {},
   "outputs": [],
   "source": [
    "Dorsales = [e.text.strip('\\n') for e in driver.find_elements(By.CLASS_NAME, 'c-match__member-number')]\n",
    "\n",
    "Nombre = [e.text.strip('\\n') for e in driver.find_elements(By.CLASS_NAME, 'c-match__member-name')]"
   ]
  },
  {
   "cell_type": "code",
   "execution_count": 9,
   "id": "f919b5ce",
   "metadata": {},
   "outputs": [],
   "source": [
    "players_data = {\n",
    "    \n",
    "    'Dorsal': Dorsales,\n",
    "    \n",
    "    'Nombre': Nombre,\n",
    "    }"
   ]
  },
  {
   "cell_type": "code",
   "execution_count": 10,
   "id": "a46b0f44",
   "metadata": {},
   "outputs": [
    {
     "data": {
      "text/html": [
       "<div>\n",
       "<style scoped>\n",
       "    .dataframe tbody tr th:only-of-type {\n",
       "        vertical-align: middle;\n",
       "    }\n",
       "\n",
       "    .dataframe tbody tr th {\n",
       "        vertical-align: top;\n",
       "    }\n",
       "\n",
       "    .dataframe thead th {\n",
       "        text-align: right;\n",
       "    }\n",
       "</style>\n",
       "<table border=\"1\" class=\"dataframe\">\n",
       "  <thead>\n",
       "    <tr style=\"text-align: right;\">\n",
       "      <th></th>\n",
       "      <th>Dorsal</th>\n",
       "      <th>Nombre</th>\n",
       "    </tr>\n",
       "  </thead>\n",
       "  <tbody>\n",
       "    <tr>\n",
       "      <th>0</th>\n",
       "      <td>1</td>\n",
       "      <td>María Isabel Rodríguez Rivero</td>\n",
       "    </tr>\n",
       "    <tr>\n",
       "      <th>1</th>\n",
       "      <td>19</td>\n",
       "      <td>Olga Carmona</td>\n",
       "    </tr>\n",
       "    <tr>\n",
       "      <th>2</th>\n",
       "      <td>3</td>\n",
       "      <td>Teresa Abelleira</td>\n",
       "    </tr>\n",
       "    <tr>\n",
       "      <th>3</th>\n",
       "      <td>4</td>\n",
       "      <td>Irene Paredes</td>\n",
       "    </tr>\n",
       "    <tr>\n",
       "      <th>4</th>\n",
       "      <td>5</td>\n",
       "      <td>Ivana Andrés</td>\n",
       "    </tr>\n",
       "  </tbody>\n",
       "</table>\n",
       "</div>"
      ],
      "text/plain": [
       "  Dorsal                         Nombre\n",
       "0      1  María Isabel Rodríguez Rivero\n",
       "1     19                   Olga Carmona\n",
       "2      3               Teresa Abelleira\n",
       "3      4                  Irene Paredes\n",
       "4      5                   Ivana Andrés"
      ]
     },
     "execution_count": 10,
     "metadata": {},
     "output_type": "execute_result"
    }
   ],
   "source": [
    "match_players = pd.DataFrame(players_data)\n",
    "\n",
    "match_players.head()"
   ]
  },
  {
   "cell_type": "code",
   "execution_count": 11,
   "id": "7eb443fa",
   "metadata": {},
   "outputs": [
    {
     "data": {
      "text/plain": [
       "23"
      ]
     },
     "execution_count": 11,
     "metadata": {},
     "output_type": "execute_result"
    }
   ],
   "source": [
    "esp_plantilla = match_players.iloc[[0, 1, 2, 3, 4, 5, 6, 7, 8, 9, 10, 22, 23, 24, 25, 26, 27, 28, 29, 30, 31, 32, 33]]\n",
    "\n",
    "len(esp_plantilla)"
   ]
  },
  {
   "cell_type": "code",
   "execution_count": 12,
   "id": "ad31c9ff",
   "metadata": {},
   "outputs": [
    {
     "data": {
      "text/plain": [
       "22"
      ]
     },
     "execution_count": 12,
     "metadata": {},
     "output_type": "execute_result"
    }
   ],
   "source": [
    "zamb_plantilla = match_players.drop(esp_plantilla.index)\n",
    "\n",
    "len(zamb_plantilla)"
   ]
  },
  {
   "cell_type": "code",
   "execution_count": 13,
   "id": "af739fb5",
   "metadata": {},
   "outputs": [],
   "source": [
    "esp_plantilla = esp_plantilla.reset_index(drop=True)\n",
    "zamb_plantilla = zamb_plantilla.reset_index(drop=True)"
   ]
  },
  {
   "cell_type": "code",
   "execution_count": 14,
   "id": "1e93dc38",
   "metadata": {},
   "outputs": [
    {
     "data": {
      "text/html": [
       "<div>\n",
       "<style scoped>\n",
       "    .dataframe tbody tr th:only-of-type {\n",
       "        vertical-align: middle;\n",
       "    }\n",
       "\n",
       "    .dataframe tbody tr th {\n",
       "        vertical-align: top;\n",
       "    }\n",
       "\n",
       "    .dataframe thead th {\n",
       "        text-align: right;\n",
       "    }\n",
       "</style>\n",
       "<table border=\"1\" class=\"dataframe\">\n",
       "  <thead>\n",
       "    <tr style=\"text-align: right;\">\n",
       "      <th></th>\n",
       "      <th>Dorsal</th>\n",
       "      <th>Nombre</th>\n",
       "    </tr>\n",
       "  </thead>\n",
       "  <tbody>\n",
       "    <tr>\n",
       "      <th>0</th>\n",
       "      <td>1</td>\n",
       "      <td>María Isabel Rodríguez Rivero</td>\n",
       "    </tr>\n",
       "    <tr>\n",
       "      <th>1</th>\n",
       "      <td>19</td>\n",
       "      <td>Olga Carmona</td>\n",
       "    </tr>\n",
       "    <tr>\n",
       "      <th>2</th>\n",
       "      <td>3</td>\n",
       "      <td>Teresa Abelleira</td>\n",
       "    </tr>\n",
       "    <tr>\n",
       "      <th>3</th>\n",
       "      <td>4</td>\n",
       "      <td>Irene Paredes</td>\n",
       "    </tr>\n",
       "    <tr>\n",
       "      <th>4</th>\n",
       "      <td>5</td>\n",
       "      <td>Ivana Andrés</td>\n",
       "    </tr>\n",
       "  </tbody>\n",
       "</table>\n",
       "</div>"
      ],
      "text/plain": [
       "  Dorsal                         Nombre\n",
       "0      1  María Isabel Rodríguez Rivero\n",
       "1     19                   Olga Carmona\n",
       "2      3               Teresa Abelleira\n",
       "3      4                  Irene Paredes\n",
       "4      5                   Ivana Andrés"
      ]
     },
     "execution_count": 14,
     "metadata": {},
     "output_type": "execute_result"
    }
   ],
   "source": [
    "esp_plantilla.head()"
   ]
  },
  {
   "cell_type": "code",
   "execution_count": 15,
   "id": "2121472e",
   "metadata": {},
   "outputs": [
    {
     "data": {
      "text/html": [
       "<div>\n",
       "<style scoped>\n",
       "    .dataframe tbody tr th:only-of-type {\n",
       "        vertical-align: middle;\n",
       "    }\n",
       "\n",
       "    .dataframe tbody tr th {\n",
       "        vertical-align: top;\n",
       "    }\n",
       "\n",
       "    .dataframe thead th {\n",
       "        text-align: right;\n",
       "    }\n",
       "</style>\n",
       "<table border=\"1\" class=\"dataframe\">\n",
       "  <thead>\n",
       "    <tr style=\"text-align: right;\">\n",
       "      <th></th>\n",
       "      <th>Dorsal</th>\n",
       "      <th>Nombre</th>\n",
       "    </tr>\n",
       "  </thead>\n",
       "  <tbody>\n",
       "    <tr>\n",
       "      <th>0</th>\n",
       "      <td>18</td>\n",
       "      <td>Eunice Sakala</td>\n",
       "    </tr>\n",
       "    <tr>\n",
       "      <th>1</th>\n",
       "      <td>8</td>\n",
       "      <td>Margaret Belemu</td>\n",
       "    </tr>\n",
       "    <tr>\n",
       "      <th>2</th>\n",
       "      <td>13</td>\n",
       "      <td>Martha Tembo</td>\n",
       "    </tr>\n",
       "    <tr>\n",
       "      <th>3</th>\n",
       "      <td>15</td>\n",
       "      <td>Agness Musesa</td>\n",
       "    </tr>\n",
       "    <tr>\n",
       "      <th>4</th>\n",
       "      <td>14</td>\n",
       "      <td>Ireen Lungu</td>\n",
       "    </tr>\n",
       "  </tbody>\n",
       "</table>\n",
       "</div>"
      ],
      "text/plain": [
       "  Dorsal           Nombre\n",
       "0     18    Eunice Sakala\n",
       "1      8  Margaret Belemu\n",
       "2     13     Martha Tembo\n",
       "3     15    Agness Musesa\n",
       "4     14      Ireen Lungu"
      ]
     },
     "execution_count": 15,
     "metadata": {},
     "output_type": "execute_result"
    }
   ],
   "source": [
    "zamb_plantilla.head()"
   ]
  },
  {
   "cell_type": "code",
   "execution_count": 16,
   "id": "92b909ea",
   "metadata": {},
   "outputs": [],
   "source": [
    "idEsp = [1, 2, 3, 4, 5,6,7,8,9,10,11,12,13,14,15,16,17,18,19,20,21,22,23]\n",
    "idZamb = [1, 2, 3, 4, 5,6,7,8,9,10,11,12,13,14,15,16,17,18,19,20,21,22]\n",
    "\n",
    "esp_plantilla.insert(0, 'idEsp', idEsp)\n",
    "zamb_plantilla.insert(0, 'idZamb', idZamb)"
   ]
  },
  {
   "cell_type": "code",
   "execution_count": 17,
   "id": "a584f4f3",
   "metadata": {},
   "outputs": [
    {
     "data": {
      "text/html": [
       "<div>\n",
       "<style scoped>\n",
       "    .dataframe tbody tr th:only-of-type {\n",
       "        vertical-align: middle;\n",
       "    }\n",
       "\n",
       "    .dataframe tbody tr th {\n",
       "        vertical-align: top;\n",
       "    }\n",
       "\n",
       "    .dataframe thead th {\n",
       "        text-align: right;\n",
       "    }\n",
       "</style>\n",
       "<table border=\"1\" class=\"dataframe\">\n",
       "  <thead>\n",
       "    <tr style=\"text-align: right;\">\n",
       "      <th></th>\n",
       "      <th>idEsp</th>\n",
       "      <th>Dorsal</th>\n",
       "      <th>Nombre</th>\n",
       "    </tr>\n",
       "  </thead>\n",
       "  <tbody>\n",
       "    <tr>\n",
       "      <th>0</th>\n",
       "      <td>1</td>\n",
       "      <td>1</td>\n",
       "      <td>María Isabel Rodríguez Rivero</td>\n",
       "    </tr>\n",
       "    <tr>\n",
       "      <th>1</th>\n",
       "      <td>2</td>\n",
       "      <td>19</td>\n",
       "      <td>Olga Carmona</td>\n",
       "    </tr>\n",
       "    <tr>\n",
       "      <th>2</th>\n",
       "      <td>3</td>\n",
       "      <td>3</td>\n",
       "      <td>Teresa Abelleira</td>\n",
       "    </tr>\n",
       "    <tr>\n",
       "      <th>3</th>\n",
       "      <td>4</td>\n",
       "      <td>4</td>\n",
       "      <td>Irene Paredes</td>\n",
       "    </tr>\n",
       "    <tr>\n",
       "      <th>4</th>\n",
       "      <td>5</td>\n",
       "      <td>5</td>\n",
       "      <td>Ivana Andrés</td>\n",
       "    </tr>\n",
       "  </tbody>\n",
       "</table>\n",
       "</div>"
      ],
      "text/plain": [
       "   idEsp Dorsal                         Nombre\n",
       "0      1      1  María Isabel Rodríguez Rivero\n",
       "1      2     19                   Olga Carmona\n",
       "2      3      3               Teresa Abelleira\n",
       "3      4      4                  Irene Paredes\n",
       "4      5      5                   Ivana Andrés"
      ]
     },
     "execution_count": 17,
     "metadata": {},
     "output_type": "execute_result"
    }
   ],
   "source": [
    "esp_plantilla.head()"
   ]
  },
  {
   "cell_type": "code",
   "execution_count": 18,
   "id": "bdec78b1",
   "metadata": {},
   "outputs": [
    {
     "data": {
      "text/html": [
       "<div>\n",
       "<style scoped>\n",
       "    .dataframe tbody tr th:only-of-type {\n",
       "        vertical-align: middle;\n",
       "    }\n",
       "\n",
       "    .dataframe tbody tr th {\n",
       "        vertical-align: top;\n",
       "    }\n",
       "\n",
       "    .dataframe thead th {\n",
       "        text-align: right;\n",
       "    }\n",
       "</style>\n",
       "<table border=\"1\" class=\"dataframe\">\n",
       "  <thead>\n",
       "    <tr style=\"text-align: right;\">\n",
       "      <th></th>\n",
       "      <th>idZamb</th>\n",
       "      <th>Dorsal</th>\n",
       "      <th>Nombre</th>\n",
       "    </tr>\n",
       "  </thead>\n",
       "  <tbody>\n",
       "    <tr>\n",
       "      <th>0</th>\n",
       "      <td>1</td>\n",
       "      <td>18</td>\n",
       "      <td>Eunice Sakala</td>\n",
       "    </tr>\n",
       "    <tr>\n",
       "      <th>1</th>\n",
       "      <td>2</td>\n",
       "      <td>8</td>\n",
       "      <td>Margaret Belemu</td>\n",
       "    </tr>\n",
       "    <tr>\n",
       "      <th>2</th>\n",
       "      <td>3</td>\n",
       "      <td>13</td>\n",
       "      <td>Martha Tembo</td>\n",
       "    </tr>\n",
       "    <tr>\n",
       "      <th>3</th>\n",
       "      <td>4</td>\n",
       "      <td>15</td>\n",
       "      <td>Agness Musesa</td>\n",
       "    </tr>\n",
       "    <tr>\n",
       "      <th>4</th>\n",
       "      <td>5</td>\n",
       "      <td>14</td>\n",
       "      <td>Ireen Lungu</td>\n",
       "    </tr>\n",
       "  </tbody>\n",
       "</table>\n",
       "</div>"
      ],
      "text/plain": [
       "   idZamb Dorsal           Nombre\n",
       "0       1     18    Eunice Sakala\n",
       "1       2      8  Margaret Belemu\n",
       "2       3     13     Martha Tembo\n",
       "3       4     15    Agness Musesa\n",
       "4       5     14      Ireen Lungu"
      ]
     },
     "execution_count": 18,
     "metadata": {},
     "output_type": "execute_result"
    }
   ],
   "source": [
    "zamb_plantilla.head()"
   ]
  },
  {
   "cell_type": "code",
   "execution_count": 19,
   "id": "895b49bc",
   "metadata": {},
   "outputs": [],
   "source": [
    "esp_plantilla.to_csv(r'C:\\Users\\delbr\\Desktop\\ETL-Project\\data\\esp_plantilla.csv', index = False)\n",
    "zamb_plantilla.to_csv(r'C:\\Users\\delbr\\Desktop\\ETL-Project\\data\\zamb_plantilla.csv', index = False)"
   ]
  },
  {
   "cell_type": "markdown",
   "id": "1161cc9c",
   "metadata": {},
   "source": [
    "# Segunda fuente, mismo metodo"
   ]
  },
  {
   "cell_type": "code",
   "execution_count": 20,
   "id": "aab79104",
   "metadata": {},
   "outputs": [],
   "source": [
    "url = 'https://www.eurosport.es/futbol/mundial-femenino/2023/live-espana-zambia_mtc1402985/live.shtml'"
   ]
  },
  {
   "cell_type": "code",
   "execution_count": 21,
   "id": "1785e26f",
   "metadata": {},
   "outputs": [],
   "source": [
    "driver.get(url)"
   ]
  },
  {
   "cell_type": "code",
   "execution_count": 22,
   "id": "a1500c5b",
   "metadata": {},
   "outputs": [],
   "source": [
    "Posesion = [e.text.split('\\n') for e in driver.find_elements(By.CSS_SELECTOR, '#content > div.bg-br-2-90 > div.flex.justify-center.zone-section-padding--top > div > div.Column.col-span-6.sm\\:col-span-6.md\\:col-span-12.lg\\:col-span-8.row-span-1.sm\\:row-span-1.md\\:row-span-1.lg\\:row-span-1.col-start-1.sm\\:col-start-1.md\\:col-start-1.lg\\:col-start-1 > div:nth-child(3) > div:nth-child(2) > div > div.mt-2 > div > div:nth-child(2) > div > div')]\n",
    "\n",
    "DispIn = [e.text.split('\\n') for e in driver.find_elements(By.CSS_SELECTOR, '#content > div.bg-br-2-90 > div.flex.justify-center.zone-section-padding--top > div > div.Column.col-span-6.sm\\:col-span-6.md\\:col-span-12.lg\\:col-span-8.row-span-1.sm\\:row-span-1.md\\:row-span-1.lg\\:row-span-1.col-start-1.sm\\:col-start-1.md\\:col-start-1.lg\\:col-start-1 > div:nth-child(3) > div:nth-child(2) > div > div.mt-2 > div > div:nth-child(4) > div > div')]\n",
    "\n",
    "Goles = [e.text.split('\\n') for e in driver.find_elements(By.CSS_SELECTOR, '#LIVE_SCORE')]\n",
    "\n",
    "Corners = [e.text.split('\\n') for e in driver.find_elements(By.CSS_SELECTOR, '#content > div.bg-br-2-90 > div.flex.justify-center.zone-section-padding--top > div > div.Column.col-span-6.sm\\:col-span-6.md\\:col-span-12.lg\\:col-span-8.row-span-1.sm\\:row-span-1.md\\:row-span-1.lg\\:row-span-1.col-start-1.sm\\:col-start-1.md\\:col-start-1.lg\\:col-start-1 > div:nth-child(3) > div:nth-child(2) > div > div.mt-2 > div > div:nth-child(3) > div > div')] \n",
    "\n",
    "Ocasiones = [e.text.split('\\n') for e in driver.find_elements(By.CSS_SELECTOR,'#content > div.pb-10.bg-br-2-90 > div:nth-child(2) > div > div > div > div:nth-child(4) > div.zone-section-margin--top-small > div:nth-child(1) > div > div')]\n",
    "\n",
    "DispTot = [e.text.split('\\n') for e in driver.find_elements(By.CSS_SELECTOR, '#content > div.pb-10.bg-br-2-90 > div:nth-child(2) > div > div > div > div:nth-child(4) > div.zone-section-margin--top-small > div:nth-child(2) > div > div')]\n",
    "\n",
    "Faltas = [e.text.split('\\n') for e in driver.find_elements(By.CSS_SELECTOR, '#content > div.pb-10.bg-br-2-90 > div:nth-child(2) > div > div > div > div:nth-child(6) > div.zone-section-margin--top-small > div:nth-child(3) > div > div')]\n",
    "\n",
    "FaltContr = [e.text.split('\\n') for e in driver.find_elements(By.CSS_SELECTOR, '#content > div.pb-10.bg-br-2-90 > div:nth-child(2) > div > div > div > div:nth-child(6) > div.zone-section-margin--top-small > div:nth-child(4) > div > div')]\n",
    "\n",
    "DispOut = [e.text.split('\\n') for e in driver.find_elements(By.CSS_SELECTOR, '#content > div.bg-br-2-90 > div.flex.justify-center.zone-section-padding--top > div > div.Column.col-span-6.sm\\:col-span-6.md\\:col-span-12.lg\\:col-span-8.row-span-1.sm\\:row-span-1.md\\:row-span-1.lg\\:row-span-1.col-start-1.sm\\:col-start-1.md\\:col-start-1.lg\\:col-start-1 > div:nth-child(3) > div:nth-child(2) > div > div.mt-2 > div > div:nth-child(5) > div > div')]"
   ]
  },
  {
   "cell_type": "code",
   "execution_count": 23,
   "id": "ac5967fa",
   "metadata": {},
   "outputs": [
    {
     "name": "stdout",
     "output_type": "stream",
     "text": [
      "1\n",
      "1\n",
      "1\n",
      "1\n",
      "1\n"
     ]
    }
   ],
   "source": [
    "print(len(Posesion))\n",
    "print(len(DispIn))\n",
    "print(len(Goles))\n",
    "print(len(Corners))\n",
    "print(len(DispOut))"
   ]
  },
  {
   "cell_type": "code",
   "execution_count": 24,
   "id": "cf7e22d7",
   "metadata": {},
   "outputs": [
    {
     "data": {
      "text/html": [
       "<div>\n",
       "<style scoped>\n",
       "    .dataframe tbody tr th:only-of-type {\n",
       "        vertical-align: middle;\n",
       "    }\n",
       "\n",
       "    .dataframe tbody tr th {\n",
       "        vertical-align: top;\n",
       "    }\n",
       "\n",
       "    .dataframe thead th {\n",
       "        text-align: right;\n",
       "    }\n",
       "</style>\n",
       "<table border=\"1\" class=\"dataframe\">\n",
       "  <thead>\n",
       "    <tr style=\"text-align: right;\">\n",
       "      <th></th>\n",
       "      <th>Posesión</th>\n",
       "      <th>Goles</th>\n",
       "      <th>Corners</th>\n",
       "      <th>Disparos a puerta</th>\n",
       "      <th>Disparos Fuera</th>\n",
       "    </tr>\n",
       "  </thead>\n",
       "  <tbody>\n",
       "    <tr>\n",
       "      <th>0</th>\n",
       "      <td>[76%, POSESIÓN, 24%]</td>\n",
       "      <td>[5, GOLES, 0]</td>\n",
       "      <td>[9, CÓRNERS, 3]</td>\n",
       "      <td>[14, DISPAROS A PUERTA, 2]</td>\n",
       "      <td>[5, DISPAROS FUERA, 5]</td>\n",
       "    </tr>\n",
       "  </tbody>\n",
       "</table>\n",
       "</div>"
      ],
      "text/plain": [
       "               Posesión          Goles          Corners  \\\n",
       "0  [76%, POSESIÓN, 24%]  [5, GOLES, 0]  [9, CÓRNERS, 3]   \n",
       "\n",
       "            Disparos a puerta          Disparos Fuera  \n",
       "0  [14, DISPAROS A PUERTA, 2]  [5, DISPAROS FUERA, 5]  "
      ]
     },
     "execution_count": 24,
     "metadata": {},
     "output_type": "execute_result"
    }
   ],
   "source": [
    "Statistics = {\n",
    "    'Posesión': Posesion,\n",
    "    \n",
    "    'Goles': Goles,\n",
    "    \n",
    "    'Corners': Corners,\n",
    "    \n",
    "    'Disparos a puerta': DispIn,\n",
    "    \n",
    "    'Disparos Fuera': DispOut,\n",
    "}\n",
    "\n",
    "Stats_df = pd.DataFrame(Statistics)\n",
    "\n",
    "Stats_df"
   ]
  },
  {
   "cell_type": "code",
   "execution_count": 25,
   "id": "f4f340a5",
   "metadata": {},
   "outputs": [
    {
     "data": {
      "text/html": [
       "<div>\n",
       "<style scoped>\n",
       "    .dataframe tbody tr th:only-of-type {\n",
       "        vertical-align: middle;\n",
       "    }\n",
       "\n",
       "    .dataframe tbody tr th {\n",
       "        vertical-align: top;\n",
       "    }\n",
       "\n",
       "    .dataframe thead th {\n",
       "        text-align: right;\n",
       "    }\n",
       "</style>\n",
       "<table border=\"1\" class=\"dataframe\">\n",
       "  <thead>\n",
       "    <tr style=\"text-align: right;\">\n",
       "      <th></th>\n",
       "      <th>0</th>\n",
       "    </tr>\n",
       "  </thead>\n",
       "  <tbody>\n",
       "    <tr>\n",
       "      <th>Posesión</th>\n",
       "      <td>[76%, POSESIÓN, 24%]</td>\n",
       "    </tr>\n",
       "    <tr>\n",
       "      <th>Goles</th>\n",
       "      <td>[5, GOLES, 0]</td>\n",
       "    </tr>\n",
       "    <tr>\n",
       "      <th>Corners</th>\n",
       "      <td>[9, CÓRNERS, 3]</td>\n",
       "    </tr>\n",
       "    <tr>\n",
       "      <th>Disparos a puerta</th>\n",
       "      <td>[14, DISPAROS A PUERTA, 2]</td>\n",
       "    </tr>\n",
       "    <tr>\n",
       "      <th>Disparos Fuera</th>\n",
       "      <td>[5, DISPAROS FUERA, 5]</td>\n",
       "    </tr>\n",
       "  </tbody>\n",
       "</table>\n",
       "</div>"
      ],
      "text/plain": [
       "                                            0\n",
       "Posesión                 [76%, POSESIÓN, 24%]\n",
       "Goles                           [5, GOLES, 0]\n",
       "Corners                       [9, CÓRNERS, 3]\n",
       "Disparos a puerta  [14, DISPAROS A PUERTA, 2]\n",
       "Disparos Fuera         [5, DISPAROS FUERA, 5]"
      ]
     },
     "execution_count": 25,
     "metadata": {},
     "output_type": "execute_result"
    }
   ],
   "source": [
    "Stats_df = Stats_df.T\n",
    "\n",
    "Stats_df"
   ]
  },
  {
   "cell_type": "code",
   "execution_count": 26,
   "id": "33e07c25",
   "metadata": {},
   "outputs": [
    {
     "data": {
      "text/html": [
       "<div>\n",
       "<style scoped>\n",
       "    .dataframe tbody tr th:only-of-type {\n",
       "        vertical-align: middle;\n",
       "    }\n",
       "\n",
       "    .dataframe tbody tr th {\n",
       "        vertical-align: top;\n",
       "    }\n",
       "\n",
       "    .dataframe thead th {\n",
       "        text-align: right;\n",
       "    }\n",
       "</style>\n",
       "<table border=\"1\" class=\"dataframe\">\n",
       "  <thead>\n",
       "    <tr style=\"text-align: right;\">\n",
       "      <th></th>\n",
       "      <th>Estadisticas</th>\n",
       "    </tr>\n",
       "  </thead>\n",
       "  <tbody>\n",
       "    <tr>\n",
       "      <th>Posesión</th>\n",
       "      <td>[76%, POSESIÓN, 24%]</td>\n",
       "    </tr>\n",
       "    <tr>\n",
       "      <th>Goles</th>\n",
       "      <td>[5, GOLES, 0]</td>\n",
       "    </tr>\n",
       "    <tr>\n",
       "      <th>Corners</th>\n",
       "      <td>[9, CÓRNERS, 3]</td>\n",
       "    </tr>\n",
       "    <tr>\n",
       "      <th>Disparos a puerta</th>\n",
       "      <td>[14, DISPAROS A PUERTA, 2]</td>\n",
       "    </tr>\n",
       "    <tr>\n",
       "      <th>Disparos Fuera</th>\n",
       "      <td>[5, DISPAROS FUERA, 5]</td>\n",
       "    </tr>\n",
       "  </tbody>\n",
       "</table>\n",
       "</div>"
      ],
      "text/plain": [
       "                                 Estadisticas\n",
       "Posesión                 [76%, POSESIÓN, 24%]\n",
       "Goles                           [5, GOLES, 0]\n",
       "Corners                       [9, CÓRNERS, 3]\n",
       "Disparos a puerta  [14, DISPAROS A PUERTA, 2]\n",
       "Disparos Fuera         [5, DISPAROS FUERA, 5]"
      ]
     },
     "execution_count": 26,
     "metadata": {},
     "output_type": "execute_result"
    }
   ],
   "source": [
    "Stats_df.columns = ['Estadisticas']\n",
    "\n",
    "Stats_df"
   ]
  },
  {
   "cell_type": "code",
   "execution_count": 27,
   "id": "f06182a6",
   "metadata": {},
   "outputs": [
    {
     "data": {
      "text/html": [
       "<div>\n",
       "<style scoped>\n",
       "    .dataframe tbody tr th:only-of-type {\n",
       "        vertical-align: middle;\n",
       "    }\n",
       "\n",
       "    .dataframe tbody tr th {\n",
       "        vertical-align: top;\n",
       "    }\n",
       "\n",
       "    .dataframe thead th {\n",
       "        text-align: right;\n",
       "    }\n",
       "</style>\n",
       "<table border=\"1\" class=\"dataframe\">\n",
       "  <thead>\n",
       "    <tr style=\"text-align: right;\">\n",
       "      <th></th>\n",
       "      <th>Estadisticas</th>\n",
       "      <th>España</th>\n",
       "    </tr>\n",
       "  </thead>\n",
       "  <tbody>\n",
       "    <tr>\n",
       "      <th>Posesión</th>\n",
       "      <td>[76%, POSESIÓN, 24%]</td>\n",
       "      <td>76%</td>\n",
       "    </tr>\n",
       "    <tr>\n",
       "      <th>Goles</th>\n",
       "      <td>[5, GOLES, 0]</td>\n",
       "      <td>5</td>\n",
       "    </tr>\n",
       "    <tr>\n",
       "      <th>Corners</th>\n",
       "      <td>[9, CÓRNERS, 3]</td>\n",
       "      <td>9</td>\n",
       "    </tr>\n",
       "    <tr>\n",
       "      <th>Disparos a puerta</th>\n",
       "      <td>[14, DISPAROS A PUERTA, 2]</td>\n",
       "      <td>14</td>\n",
       "    </tr>\n",
       "    <tr>\n",
       "      <th>Disparos Fuera</th>\n",
       "      <td>[5, DISPAROS FUERA, 5]</td>\n",
       "      <td>5</td>\n",
       "    </tr>\n",
       "  </tbody>\n",
       "</table>\n",
       "</div>"
      ],
      "text/plain": [
       "                                 Estadisticas España\n",
       "Posesión                 [76%, POSESIÓN, 24%]    76%\n",
       "Goles                           [5, GOLES, 0]      5\n",
       "Corners                       [9, CÓRNERS, 3]      9\n",
       "Disparos a puerta  [14, DISPAROS A PUERTA, 2]     14\n",
       "Disparos Fuera         [5, DISPAROS FUERA, 5]      5"
      ]
     },
     "execution_count": 27,
     "metadata": {},
     "output_type": "execute_result"
    }
   ],
   "source": [
    "Stats_df['España'] = Stats_df['Estadisticas'].str[0]\n",
    "\n",
    "Stats_df"
   ]
  },
  {
   "cell_type": "code",
   "execution_count": 28,
   "id": "4d393a31",
   "metadata": {},
   "outputs": [
    {
     "data": {
      "text/html": [
       "<div>\n",
       "<style scoped>\n",
       "    .dataframe tbody tr th:only-of-type {\n",
       "        vertical-align: middle;\n",
       "    }\n",
       "\n",
       "    .dataframe tbody tr th {\n",
       "        vertical-align: top;\n",
       "    }\n",
       "\n",
       "    .dataframe thead th {\n",
       "        text-align: right;\n",
       "    }\n",
       "</style>\n",
       "<table border=\"1\" class=\"dataframe\">\n",
       "  <thead>\n",
       "    <tr style=\"text-align: right;\">\n",
       "      <th></th>\n",
       "      <th>Estadisticas</th>\n",
       "      <th>España</th>\n",
       "      <th>Categoria</th>\n",
       "    </tr>\n",
       "  </thead>\n",
       "  <tbody>\n",
       "    <tr>\n",
       "      <th>Posesión</th>\n",
       "      <td>[76%, POSESIÓN, 24%]</td>\n",
       "      <td>76%</td>\n",
       "      <td>POSESIÓN</td>\n",
       "    </tr>\n",
       "    <tr>\n",
       "      <th>Goles</th>\n",
       "      <td>[5, GOLES, 0]</td>\n",
       "      <td>5</td>\n",
       "      <td>GOLES</td>\n",
       "    </tr>\n",
       "    <tr>\n",
       "      <th>Corners</th>\n",
       "      <td>[9, CÓRNERS, 3]</td>\n",
       "      <td>9</td>\n",
       "      <td>CÓRNERS</td>\n",
       "    </tr>\n",
       "    <tr>\n",
       "      <th>Disparos a puerta</th>\n",
       "      <td>[14, DISPAROS A PUERTA, 2]</td>\n",
       "      <td>14</td>\n",
       "      <td>DISPAROS A PUERTA</td>\n",
       "    </tr>\n",
       "    <tr>\n",
       "      <th>Disparos Fuera</th>\n",
       "      <td>[5, DISPAROS FUERA, 5]</td>\n",
       "      <td>5</td>\n",
       "      <td>DISPAROS FUERA</td>\n",
       "    </tr>\n",
       "  </tbody>\n",
       "</table>\n",
       "</div>"
      ],
      "text/plain": [
       "                                 Estadisticas España          Categoria\n",
       "Posesión                 [76%, POSESIÓN, 24%]    76%           POSESIÓN\n",
       "Goles                           [5, GOLES, 0]      5              GOLES\n",
       "Corners                       [9, CÓRNERS, 3]      9            CÓRNERS\n",
       "Disparos a puerta  [14, DISPAROS A PUERTA, 2]     14  DISPAROS A PUERTA\n",
       "Disparos Fuera         [5, DISPAROS FUERA, 5]      5     DISPAROS FUERA"
      ]
     },
     "execution_count": 28,
     "metadata": {},
     "output_type": "execute_result"
    }
   ],
   "source": [
    "Stats_df['Categoria'] = Stats_df['Estadisticas'].str[1]\n",
    "\n",
    "Stats_df"
   ]
  },
  {
   "cell_type": "code",
   "execution_count": 29,
   "id": "35475c1b",
   "metadata": {},
   "outputs": [
    {
     "data": {
      "text/html": [
       "<div>\n",
       "<style scoped>\n",
       "    .dataframe tbody tr th:only-of-type {\n",
       "        vertical-align: middle;\n",
       "    }\n",
       "\n",
       "    .dataframe tbody tr th {\n",
       "        vertical-align: top;\n",
       "    }\n",
       "\n",
       "    .dataframe thead th {\n",
       "        text-align: right;\n",
       "    }\n",
       "</style>\n",
       "<table border=\"1\" class=\"dataframe\">\n",
       "  <thead>\n",
       "    <tr style=\"text-align: right;\">\n",
       "      <th></th>\n",
       "      <th>Estadisticas</th>\n",
       "      <th>España</th>\n",
       "      <th>Categoria</th>\n",
       "      <th>Zambia</th>\n",
       "    </tr>\n",
       "  </thead>\n",
       "  <tbody>\n",
       "    <tr>\n",
       "      <th>Posesión</th>\n",
       "      <td>[76%, POSESIÓN, 24%]</td>\n",
       "      <td>76%</td>\n",
       "      <td>POSESIÓN</td>\n",
       "      <td>24%</td>\n",
       "    </tr>\n",
       "    <tr>\n",
       "      <th>Goles</th>\n",
       "      <td>[5, GOLES, 0]</td>\n",
       "      <td>5</td>\n",
       "      <td>GOLES</td>\n",
       "      <td>0</td>\n",
       "    </tr>\n",
       "    <tr>\n",
       "      <th>Corners</th>\n",
       "      <td>[9, CÓRNERS, 3]</td>\n",
       "      <td>9</td>\n",
       "      <td>CÓRNERS</td>\n",
       "      <td>3</td>\n",
       "    </tr>\n",
       "    <tr>\n",
       "      <th>Disparos a puerta</th>\n",
       "      <td>[14, DISPAROS A PUERTA, 2]</td>\n",
       "      <td>14</td>\n",
       "      <td>DISPAROS A PUERTA</td>\n",
       "      <td>2</td>\n",
       "    </tr>\n",
       "    <tr>\n",
       "      <th>Disparos Fuera</th>\n",
       "      <td>[5, DISPAROS FUERA, 5]</td>\n",
       "      <td>5</td>\n",
       "      <td>DISPAROS FUERA</td>\n",
       "      <td>5</td>\n",
       "    </tr>\n",
       "  </tbody>\n",
       "</table>\n",
       "</div>"
      ],
      "text/plain": [
       "                                 Estadisticas España          Categoria Zambia\n",
       "Posesión                 [76%, POSESIÓN, 24%]    76%           POSESIÓN    24%\n",
       "Goles                           [5, GOLES, 0]      5              GOLES      0\n",
       "Corners                       [9, CÓRNERS, 3]      9            CÓRNERS      3\n",
       "Disparos a puerta  [14, DISPAROS A PUERTA, 2]     14  DISPAROS A PUERTA      2\n",
       "Disparos Fuera         [5, DISPAROS FUERA, 5]      5     DISPAROS FUERA      5"
      ]
     },
     "execution_count": 29,
     "metadata": {},
     "output_type": "execute_result"
    }
   ],
   "source": [
    "Stats_df['Zambia'] = Stats_df['Estadisticas'].str[-1]\n",
    "\n",
    "Stats_df"
   ]
  },
  {
   "cell_type": "code",
   "execution_count": 30,
   "id": "5aa0e53e",
   "metadata": {},
   "outputs": [
    {
     "data": {
      "text/html": [
       "<div>\n",
       "<style scoped>\n",
       "    .dataframe tbody tr th:only-of-type {\n",
       "        vertical-align: middle;\n",
       "    }\n",
       "\n",
       "    .dataframe tbody tr th {\n",
       "        vertical-align: top;\n",
       "    }\n",
       "\n",
       "    .dataframe thead th {\n",
       "        text-align: right;\n",
       "    }\n",
       "</style>\n",
       "<table border=\"1\" class=\"dataframe\">\n",
       "  <thead>\n",
       "    <tr style=\"text-align: right;\">\n",
       "      <th></th>\n",
       "      <th>España</th>\n",
       "      <th>Categoria</th>\n",
       "      <th>Zambia</th>\n",
       "    </tr>\n",
       "  </thead>\n",
       "  <tbody>\n",
       "    <tr>\n",
       "      <th>Posesión</th>\n",
       "      <td>76%</td>\n",
       "      <td>POSESIÓN</td>\n",
       "      <td>24%</td>\n",
       "    </tr>\n",
       "    <tr>\n",
       "      <th>Goles</th>\n",
       "      <td>5</td>\n",
       "      <td>GOLES</td>\n",
       "      <td>0</td>\n",
       "    </tr>\n",
       "    <tr>\n",
       "      <th>Corners</th>\n",
       "      <td>9</td>\n",
       "      <td>CÓRNERS</td>\n",
       "      <td>3</td>\n",
       "    </tr>\n",
       "    <tr>\n",
       "      <th>Disparos a puerta</th>\n",
       "      <td>14</td>\n",
       "      <td>DISPAROS A PUERTA</td>\n",
       "      <td>2</td>\n",
       "    </tr>\n",
       "    <tr>\n",
       "      <th>Disparos Fuera</th>\n",
       "      <td>5</td>\n",
       "      <td>DISPAROS FUERA</td>\n",
       "      <td>5</td>\n",
       "    </tr>\n",
       "  </tbody>\n",
       "</table>\n",
       "</div>"
      ],
      "text/plain": [
       "                  España          Categoria Zambia\n",
       "Posesión             76%           POSESIÓN    24%\n",
       "Goles                  5              GOLES      0\n",
       "Corners                9            CÓRNERS      3\n",
       "Disparos a puerta     14  DISPAROS A PUERTA      2\n",
       "Disparos Fuera         5     DISPAROS FUERA      5"
      ]
     },
     "execution_count": 30,
     "metadata": {},
     "output_type": "execute_result"
    }
   ],
   "source": [
    "Stats_df = Stats_df.drop('Estadisticas', axis=1)\n",
    "\n",
    "Stats_df"
   ]
  },
  {
   "cell_type": "code",
   "execution_count": 31,
   "id": "743967d5",
   "metadata": {},
   "outputs": [
    {
     "data": {
      "text/html": [
       "<div>\n",
       "<style scoped>\n",
       "    .dataframe tbody tr th:only-of-type {\n",
       "        vertical-align: middle;\n",
       "    }\n",
       "\n",
       "    .dataframe tbody tr th {\n",
       "        vertical-align: top;\n",
       "    }\n",
       "\n",
       "    .dataframe thead th {\n",
       "        text-align: right;\n",
       "    }\n",
       "</style>\n",
       "<table border=\"1\" class=\"dataframe\">\n",
       "  <thead>\n",
       "    <tr style=\"text-align: right;\">\n",
       "      <th></th>\n",
       "      <th>España</th>\n",
       "      <th>Categoria</th>\n",
       "      <th>Zambia</th>\n",
       "    </tr>\n",
       "  </thead>\n",
       "  <tbody>\n",
       "    <tr>\n",
       "      <th>0</th>\n",
       "      <td>76%</td>\n",
       "      <td>POSESIÓN</td>\n",
       "      <td>24%</td>\n",
       "    </tr>\n",
       "    <tr>\n",
       "      <th>1</th>\n",
       "      <td>5</td>\n",
       "      <td>GOLES</td>\n",
       "      <td>0</td>\n",
       "    </tr>\n",
       "    <tr>\n",
       "      <th>2</th>\n",
       "      <td>9</td>\n",
       "      <td>CÓRNERS</td>\n",
       "      <td>3</td>\n",
       "    </tr>\n",
       "    <tr>\n",
       "      <th>3</th>\n",
       "      <td>14</td>\n",
       "      <td>DISPAROS A PUERTA</td>\n",
       "      <td>2</td>\n",
       "    </tr>\n",
       "    <tr>\n",
       "      <th>4</th>\n",
       "      <td>5</td>\n",
       "      <td>DISPAROS FUERA</td>\n",
       "      <td>5</td>\n",
       "    </tr>\n",
       "  </tbody>\n",
       "</table>\n",
       "</div>"
      ],
      "text/plain": [
       "  España          Categoria Zambia\n",
       "0    76%           POSESIÓN    24%\n",
       "1      5              GOLES      0\n",
       "2      9            CÓRNERS      3\n",
       "3     14  DISPAROS A PUERTA      2\n",
       "4      5     DISPAROS FUERA      5"
      ]
     },
     "execution_count": 31,
     "metadata": {},
     "output_type": "execute_result"
    }
   ],
   "source": [
    "Stats_df = Stats_df.reset_index(drop=True)\n",
    "\n",
    "Stats_df"
   ]
  },
  {
   "cell_type": "code",
   "execution_count": 58,
   "id": "606581fd",
   "metadata": {},
   "outputs": [],
   "source": [
    "Stats_df.to_csv(r'C:\\Users\\delbr\\Desktop\\ETL-Project\\data\\Stats_Spain_vs_Zambia.csv', index=False)"
   ]
  },
  {
   "cell_type": "markdown",
   "id": "8ff0f529",
   "metadata": {},
   "source": [
    "# Tercera fuente y segundo metodo: CSV"
   ]
  },
  {
   "cell_type": "code",
   "execution_count": 37,
   "id": "4db6266a",
   "metadata": {},
   "outputs": [],
   "source": [
    "import pandas as pd"
   ]
  },
  {
   "cell_type": "code",
   "execution_count": 38,
   "id": "e387d4cb",
   "metadata": {},
   "outputs": [],
   "source": [
    "results_df = pd.read_csv(r'C:\\Users\\delbr\\Desktop\\ETL-Project\\data\\results.csv')"
   ]
  },
  {
   "cell_type": "code",
   "execution_count": 39,
   "id": "2bbef897",
   "metadata": {},
   "outputs": [
    {
     "data": {
      "text/html": [
       "<div>\n",
       "<style scoped>\n",
       "    .dataframe tbody tr th:only-of-type {\n",
       "        vertical-align: middle;\n",
       "    }\n",
       "\n",
       "    .dataframe tbody tr th {\n",
       "        vertical-align: top;\n",
       "    }\n",
       "\n",
       "    .dataframe thead th {\n",
       "        text-align: right;\n",
       "    }\n",
       "</style>\n",
       "<table border=\"1\" class=\"dataframe\">\n",
       "  <thead>\n",
       "    <tr style=\"text-align: right;\">\n",
       "      <th></th>\n",
       "      <th>date</th>\n",
       "      <th>home_team</th>\n",
       "      <th>away_team</th>\n",
       "      <th>home_score</th>\n",
       "      <th>away_score</th>\n",
       "      <th>tournament</th>\n",
       "      <th>city</th>\n",
       "      <th>country</th>\n",
       "      <th>neutral</th>\n",
       "    </tr>\n",
       "  </thead>\n",
       "  <tbody>\n",
       "    <tr>\n",
       "      <th>0</th>\n",
       "      <td>1969-11-01</td>\n",
       "      <td>Italy</td>\n",
       "      <td>France</td>\n",
       "      <td>1</td>\n",
       "      <td>0</td>\n",
       "      <td>Euro</td>\n",
       "      <td>Novara</td>\n",
       "      <td>Italy</td>\n",
       "      <td>False</td>\n",
       "    </tr>\n",
       "    <tr>\n",
       "      <th>1</th>\n",
       "      <td>1969-11-01</td>\n",
       "      <td>Denmark</td>\n",
       "      <td>England</td>\n",
       "      <td>4</td>\n",
       "      <td>3</td>\n",
       "      <td>Euro</td>\n",
       "      <td>Aosta</td>\n",
       "      <td>Italy</td>\n",
       "      <td>True</td>\n",
       "    </tr>\n",
       "    <tr>\n",
       "      <th>2</th>\n",
       "      <td>1969-11-02</td>\n",
       "      <td>England</td>\n",
       "      <td>France</td>\n",
       "      <td>2</td>\n",
       "      <td>0</td>\n",
       "      <td>Euro</td>\n",
       "      <td>Turin</td>\n",
       "      <td>Italy</td>\n",
       "      <td>True</td>\n",
       "    </tr>\n",
       "    <tr>\n",
       "      <th>3</th>\n",
       "      <td>1969-11-02</td>\n",
       "      <td>Italy</td>\n",
       "      <td>Denmark</td>\n",
       "      <td>3</td>\n",
       "      <td>1</td>\n",
       "      <td>Euro</td>\n",
       "      <td>Turin</td>\n",
       "      <td>Italy</td>\n",
       "      <td>False</td>\n",
       "    </tr>\n",
       "    <tr>\n",
       "      <th>4</th>\n",
       "      <td>1970-07-06</td>\n",
       "      <td>England</td>\n",
       "      <td>West Germany</td>\n",
       "      <td>5</td>\n",
       "      <td>1</td>\n",
       "      <td>World Cup</td>\n",
       "      <td>Genova</td>\n",
       "      <td>Italy</td>\n",
       "      <td>True</td>\n",
       "    </tr>\n",
       "  </tbody>\n",
       "</table>\n",
       "</div>"
      ],
      "text/plain": [
       "         date home_team     away_team  home_score  away_score tournament  \\\n",
       "0  1969-11-01     Italy        France           1           0       Euro   \n",
       "1  1969-11-01   Denmark       England           4           3       Euro   \n",
       "2  1969-11-02   England        France           2           0       Euro   \n",
       "3  1969-11-02     Italy       Denmark           3           1       Euro   \n",
       "4  1970-07-06   England  West Germany           5           1  World Cup   \n",
       "\n",
       "     city country  neutral  \n",
       "0  Novara   Italy    False  \n",
       "1   Aosta   Italy     True  \n",
       "2   Turin   Italy     True  \n",
       "3   Turin   Italy    False  \n",
       "4  Genova   Italy     True  "
      ]
     },
     "execution_count": 39,
     "metadata": {},
     "output_type": "execute_result"
    }
   ],
   "source": [
    "results_df.head()"
   ]
  },
  {
   "cell_type": "code",
   "execution_count": 40,
   "id": "44e15c7d",
   "metadata": {},
   "outputs": [],
   "source": [
    "results_df = results_df[(results_df['home_team'].isin(['Spain', 'Zambia'])) | (results_df['away_team'].isin(['Spain', 'Zambia']))]"
   ]
  },
  {
   "cell_type": "code",
   "execution_count": 48,
   "id": "fb57c63a",
   "metadata": {},
   "outputs": [
    {
     "data": {
      "text/html": [
       "<div>\n",
       "<style scoped>\n",
       "    .dataframe tbody tr th:only-of-type {\n",
       "        vertical-align: middle;\n",
       "    }\n",
       "\n",
       "    .dataframe tbody tr th {\n",
       "        vertical-align: top;\n",
       "    }\n",
       "\n",
       "    .dataframe thead th {\n",
       "        text-align: right;\n",
       "    }\n",
       "</style>\n",
       "<table border=\"1\" class=\"dataframe\">\n",
       "  <thead>\n",
       "    <tr style=\"text-align: right;\">\n",
       "      <th></th>\n",
       "      <th>date</th>\n",
       "      <th>home_team</th>\n",
       "      <th>away_team</th>\n",
       "      <th>home_score</th>\n",
       "      <th>away_score</th>\n",
       "      <th>tournament</th>\n",
       "      <th>city</th>\n",
       "      <th>country</th>\n",
       "      <th>neutral</th>\n",
       "    </tr>\n",
       "  </thead>\n",
       "  <tbody>\n",
       "    <tr>\n",
       "      <th>189</th>\n",
       "      <td>1985-04-27</td>\n",
       "      <td>Hungary</td>\n",
       "      <td>Spain</td>\n",
       "      <td>1</td>\n",
       "      <td>0</td>\n",
       "      <td>UEFA Euro qualification</td>\n",
       "      <td>Hungary</td>\n",
       "      <td>Hungary</td>\n",
       "      <td>False</td>\n",
       "    </tr>\n",
       "    <tr>\n",
       "      <th>199</th>\n",
       "      <td>1985-06-25</td>\n",
       "      <td>Spain</td>\n",
       "      <td>Switzerland</td>\n",
       "      <td>0</td>\n",
       "      <td>2</td>\n",
       "      <td>UEFA Euro qualification</td>\n",
       "      <td>Cuenca</td>\n",
       "      <td>Spain</td>\n",
       "      <td>False</td>\n",
       "    </tr>\n",
       "    <tr>\n",
       "      <th>217</th>\n",
       "      <td>1985-11-03</td>\n",
       "      <td>Spain</td>\n",
       "      <td>Italy</td>\n",
       "      <td>2</td>\n",
       "      <td>3</td>\n",
       "      <td>UEFA Euro qualification</td>\n",
       "      <td>Palma</td>\n",
       "      <td>Spain</td>\n",
       "      <td>False</td>\n",
       "    </tr>\n",
       "    <tr>\n",
       "      <th>225</th>\n",
       "      <td>1986-04-05</td>\n",
       "      <td>Spain</td>\n",
       "      <td>Hungary</td>\n",
       "      <td>1</td>\n",
       "      <td>2</td>\n",
       "      <td>UEFA Euro qualification</td>\n",
       "      <td>Spain</td>\n",
       "      <td>Spain</td>\n",
       "      <td>False</td>\n",
       "    </tr>\n",
       "    <tr>\n",
       "      <th>231</th>\n",
       "      <td>1986-06-10</td>\n",
       "      <td>Switzerland</td>\n",
       "      <td>Spain</td>\n",
       "      <td>0</td>\n",
       "      <td>3</td>\n",
       "      <td>UEFA Euro qualification</td>\n",
       "      <td>Solothurn</td>\n",
       "      <td>Switzerland</td>\n",
       "      <td>False</td>\n",
       "    </tr>\n",
       "  </tbody>\n",
       "</table>\n",
       "</div>"
      ],
      "text/plain": [
       "           date    home_team    away_team  home_score  away_score  \\\n",
       "189  1985-04-27      Hungary        Spain           1           0   \n",
       "199  1985-06-25        Spain  Switzerland           0           2   \n",
       "217  1985-11-03        Spain        Italy           2           3   \n",
       "225  1986-04-05        Spain      Hungary           1           2   \n",
       "231  1986-06-10  Switzerland        Spain           0           3   \n",
       "\n",
       "                  tournament       city      country  neutral  \n",
       "189  UEFA Euro qualification    Hungary      Hungary    False  \n",
       "199  UEFA Euro qualification     Cuenca        Spain    False  \n",
       "217  UEFA Euro qualification      Palma        Spain    False  \n",
       "225  UEFA Euro qualification      Spain        Spain    False  \n",
       "231  UEFA Euro qualification  Solothurn  Switzerland    False  "
      ]
     },
     "execution_count": 48,
     "metadata": {},
     "output_type": "execute_result"
    }
   ],
   "source": [
    "results_df.head()"
   ]
  },
  {
   "cell_type": "code",
   "execution_count": 55,
   "id": "07b190b2",
   "metadata": {},
   "outputs": [
    {
     "data": {
      "text/plain": [
       "(192, 9)"
      ]
     },
     "execution_count": 55,
     "metadata": {},
     "output_type": "execute_result"
    }
   ],
   "source": [
    "results_df.shape"
   ]
  },
  {
   "cell_type": "code",
   "execution_count": 53,
   "id": "111f0cf2",
   "metadata": {},
   "outputs": [
    {
     "data": {
      "text/html": [
       "<div>\n",
       "<style scoped>\n",
       "    .dataframe tbody tr th:only-of-type {\n",
       "        vertical-align: middle;\n",
       "    }\n",
       "\n",
       "    .dataframe tbody tr th {\n",
       "        vertical-align: top;\n",
       "    }\n",
       "\n",
       "    .dataframe thead th {\n",
       "        text-align: right;\n",
       "    }\n",
       "</style>\n",
       "<table border=\"1\" class=\"dataframe\">\n",
       "  <thead>\n",
       "    <tr style=\"text-align: right;\">\n",
       "      <th></th>\n",
       "      <th>date</th>\n",
       "      <th>home_team</th>\n",
       "      <th>away_team</th>\n",
       "      <th>home_score</th>\n",
       "      <th>away_score</th>\n",
       "      <th>tournament</th>\n",
       "      <th>city</th>\n",
       "      <th>country</th>\n",
       "      <th>neutral</th>\n",
       "    </tr>\n",
       "  </thead>\n",
       "  <tbody>\n",
       "  </tbody>\n",
       "</table>\n",
       "</div>"
      ],
      "text/plain": [
       "Empty DataFrame\n",
       "Columns: [date, home_team, away_team, home_score, away_score, tournament, city, country, neutral]\n",
       "Index: []"
      ]
     },
     "execution_count": 53,
     "metadata": {},
     "output_type": "execute_result"
    }
   ],
   "source": [
    "spain_vs_zambia = results_df[(results_df['home_team'] == 'Spain') & (results_df['away_team'] == 'Zambia')]\n",
    "\n",
    "spain_vs_zambia"
   ]
  },
  {
   "cell_type": "code",
   "execution_count": 54,
   "id": "1b3c427f",
   "metadata": {},
   "outputs": [
    {
     "data": {
      "text/html": [
       "<div>\n",
       "<style scoped>\n",
       "    .dataframe tbody tr th:only-of-type {\n",
       "        vertical-align: middle;\n",
       "    }\n",
       "\n",
       "    .dataframe tbody tr th {\n",
       "        vertical-align: top;\n",
       "    }\n",
       "\n",
       "    .dataframe thead th {\n",
       "        text-align: right;\n",
       "    }\n",
       "</style>\n",
       "<table border=\"1\" class=\"dataframe\">\n",
       "  <thead>\n",
       "    <tr style=\"text-align: right;\">\n",
       "      <th></th>\n",
       "      <th>date</th>\n",
       "      <th>home_team</th>\n",
       "      <th>away_team</th>\n",
       "      <th>home_score</th>\n",
       "      <th>away_score</th>\n",
       "      <th>tournament</th>\n",
       "      <th>city</th>\n",
       "      <th>country</th>\n",
       "      <th>neutral</th>\n",
       "    </tr>\n",
       "  </thead>\n",
       "  <tbody>\n",
       "  </tbody>\n",
       "</table>\n",
       "</div>"
      ],
      "text/plain": [
       "Empty DataFrame\n",
       "Columns: [date, home_team, away_team, home_score, away_score, tournament, city, country, neutral]\n",
       "Index: []"
      ]
     },
     "execution_count": 54,
     "metadata": {},
     "output_type": "execute_result"
    }
   ],
   "source": [
    "zambia_vs_spain = results_df[(results_df['home_team'] == 'Zambia') & (results_df['away_team'] == 'Spain')]\n",
    "\n",
    "zambia_vs_spain"
   ]
  },
  {
   "cell_type": "code",
   "execution_count": 56,
   "id": "7b2b74b9",
   "metadata": {},
   "outputs": [],
   "source": [
    "spain_vs_zambia.to_csv(r'C:\\Users\\delbr\\Desktop\\ETL-Project\\data\\spain_vs_zambia.csv', index=False)\n",
    "\n",
    "zambia_vs_spain.to_csv(r'C:\\Users\\delbr\\Desktop\\ETL-Project\\data\\zambia_vs_spain.csv', index=False)"
   ]
  },
  {
   "cell_type": "code",
   "execution_count": 57,
   "id": "6e0f4034",
   "metadata": {},
   "outputs": [],
   "source": [
    "results_df.to_csv(r'C:\\Users\\delbr\\Desktop\\ETL-Project\\data\\results.csv', index=False)"
   ]
  },
  {
   "cell_type": "code",
   "execution_count": null,
   "id": "9ca50810",
   "metadata": {},
   "outputs": [],
   "source": []
  }
 ],
 "metadata": {
  "kernelspec": {
   "display_name": "Python 3 (ipykernel)",
   "language": "python",
   "name": "python3"
  },
  "language_info": {
   "codemirror_mode": {
    "name": "ipython",
    "version": 3
   },
   "file_extension": ".py",
   "mimetype": "text/x-python",
   "name": "python",
   "nbconvert_exporter": "python",
   "pygments_lexer": "ipython3",
   "version": "3.10.9"
  }
 },
 "nbformat": 4,
 "nbformat_minor": 5
}
